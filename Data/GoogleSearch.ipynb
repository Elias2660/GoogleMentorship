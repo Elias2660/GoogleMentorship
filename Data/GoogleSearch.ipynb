{
 "cells": [
  {
   "cell_type": "code",
   "execution_count": 50,
   "metadata": {},
   "outputs": [],
   "source": [
    "import requests\n",
    "import dotenv"
   ]
  },
  {
   "cell_type": "code",
   "execution_count": 51,
   "metadata": {},
   "outputs": [],
   "source": [
    "Google_API_KEY = dotenv.get_key(\"../.env\", 'Google_Search_Key')\n",
    "Search_Engine_ID = dotenv.get_key(\"../.env\", 'Search_Engine_ID')"
   ]
  },
  {
   "cell_type": "code",
   "execution_count": 52,
   "metadata": {},
   "outputs": [],
   "source": [
    "Query = \"r0 value of monkeypox\"\n",
    "response = requests.get(f\"https://www.googleapis.com/customsearch/v1?key={Google_API_KEY}&cx={Search_Engine_ID}&q={Query}\")"
   ]
  },
  {
   "cell_type": "code",
   "execution_count": 53,
   "metadata": {},
   "outputs": [
    {
     "name": "stdout",
     "output_type": "stream",
     "text": [
      "Monkeypox: A Comprehensive Review of Transmission ... : https://www.ncbi.nlm.nih.gov/pmc/articles/PMC9345383/\n",
      "Study and prediction of the 2022 global monkeypox epidemic ... : https://www.sciencedirect.com/science/article/pii/S2588933822000267\n",
      "Modelling human-to-human transmission of monkeypox - PMC : https://www.ncbi.nlm.nih.gov/pmc/articles/PMC7463189/\n",
      "Master Question List for Monkeypox Virus (MPXV) : https://www.dhs.gov/sites/default/files/2022-07/22_0712_st_monkeypox_mql.pdf\n",
      "Does it matter who is spreading monkeypox? : https://www.thelancet.com/pdfs/journals/laninf/PIIS1473-3099(22)00431-5.pdf\n",
      "How Contagious Is Monkeypox? R Number vs. COVID : https://www.newsweek.com/monkeypox-r-number-compared-covid-how-contagious-1709975\n",
      "Misinformation making a disease outbreak worse: outcomes ... : https://journals.sagepub.com/doi/10.1177/0037549719885021\n",
      "Monkeypox and COVID-19 are different — in a good way : NPR : https://www.npr.org/2022/05/24/1101003523/monkeypox-covid-19-differences\n",
      "Inference of R0 and Transmission Heterogeneity from the Size ... : https://journals.plos.org/ploscompbiol/article?id=10.1371/journal.pcbi.1002993\n",
      "Monkeypox and Pregnancy: Latest Updates : https://pubmed.ncbi.nlm.nih.gov/36423129/\n"
     ]
    }
   ],
   "source": [
    "# from pprint import pprint\n",
    "# pprint(response.json()[\"items\"][1])\n",
    "\n",
    "for item in response.json()[\"items\"]:\n",
    "    print(f\"{item['title']} : {item['link']}\")"
   ]
  },
  {
   "cell_type": "code",
   "execution_count": null,
   "metadata": {},
   "outputs": [],
   "source": []
  }
 ],
 "metadata": {
  "kernelspec": {
   "display_name": "venv",
   "language": "python",
   "name": "python3"
  },
  "language_info": {
   "codemirror_mode": {
    "name": "ipython",
    "version": 3
   },
   "file_extension": ".py",
   "mimetype": "text/x-python",
   "name": "python",
   "nbconvert_exporter": "python",
   "pygments_lexer": "ipython3",
   "version": "3.9.18"
  }
 },
 "nbformat": 4,
 "nbformat_minor": 2
}
