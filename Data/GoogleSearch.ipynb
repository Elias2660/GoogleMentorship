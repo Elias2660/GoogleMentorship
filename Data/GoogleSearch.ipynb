{
 "cells": [
  {
   "cell_type": "code",
   "execution_count": 1,
   "metadata": {},
   "outputs": [],
   "source": [
    "import requests\n",
    "import dotenv"
   ]
  },
  {
   "cell_type": "code",
   "execution_count": 2,
   "metadata": {},
   "outputs": [],
   "source": [
    "Google_API_KEY = dotenv.get_key(\"../.env\", 'Google_Search_Key')\n",
    "Search_Engine_ID = dotenv.get_key(\"../.env\", 'Search_Engine_ID')"
   ]
  },
  {
   "cell_type": "code",
   "execution_count": 3,
   "metadata": {},
   "outputs": [],
   "source": [
    "Query = \"r0 value of HIV\"\n",
    "URL = f\"https://www.googleapis.com/customsearch/v1?key={Google_API_KEY}&cx={Search_Engine_ID}&q={Query}\"\n",
    "response = requests.get(f\"https://www.googleapis.com/customsearch/v1?key={Google_API_KEY}&cx={Search_Engine_ID}&q={Query}\")"
   ]
  },
  {
   "cell_type": "code",
   "execution_count": null,
   "metadata": {},
   "outputs": [],
   "source": []
  },
  {
   "cell_type": "code",
   "execution_count": 4,
   "metadata": {},
   "outputs": [
    {
     "name": "stdout",
     "output_type": "stream",
     "text": [
      "Playing the Numbers Game: R0 | NETEC : https://netec.org/2020/01/30/playing-the-numbers-game-r0/\n",
      "Is the Elimination of HIV Infection Within Reach in the United States ... : https://www.ncbi.nlm.nih.gov/pmc/articles/PMC2848261/\n",
      "Why the proportion of transmission during early-stage HIV infection ... : https://www.pnas.org/doi/pdf/10.1073/pnas.1323007111\n",
      "Complexity of the Basic Reproduction Number (R0) - Volume 25 ... : https://wwwnc.cdc.gov/eid/article/25/1/17-1901_article\n",
      "R0 and the elimination of HIV in Africa: Will 90-90-90 be sufficient? : https://arxiv.org/abs/1304.3720\n",
      "What Is R0? Gauging Contagious Infections : https://www.healthline.com/health/r-naught-reproduction-number\n",
      "Basic reproduction number - Wikipedia : https://en.wikipedia.org/wiki/Basic_reproduction_number\n",
      "Prevalence and predictive value of intermittent viremia with ... : https://pubmed.ncbi.nlm.nih.gov/11448280/\n",
      "Global HIV Programme : https://www.who.int/teams/global-hiv-hepatitis-and-stis-programmes/hiv/strategic-information/hiv-data-and-statistics\n",
      "Could widespread use of combination antiretroviral therapy ... : https://pubmed.ncbi.nlm.nih.gov/12150848/\n"
     ]
    }
   ],
   "source": [
    "# from pprint import pprint\n",
    "# pprint(response.json()[\"items\"][1])\n",
    "\n",
    "for item in response.json()[\"items\"]:\n",
    "    print(f\"{item['title']} : {item['link']}\")"
   ]
  },
  {
   "cell_type": "code",
   "execution_count": 5,
   "metadata": {},
   "outputs": [],
   "source": [
    "from bs4 import BeautifulSoup\n",
    "import urllib\n",
    "import bs4\n",
    "\n",
    "def tag_visible(element):\n",
    "    if element.parent.name in ['style', 'script', 'head', 'title', 'meta', '[document]']:\n",
    "        return False\n",
    "    if isinstance(element, bs4.element.Comment):\n",
    "        return False\n",
    "    return True"
   ]
  },
  {
   "cell_type": "code",
   "execution_count": 6,
   "metadata": {},
   "outputs": [],
   "source": [
    "\n",
    "def text_from_html(body):\n",
    "    soup = BeautifulSoup(body, 'html.parser')\n",
    "    texts = soup.findAll(string=True)\n",
    "    visible_texts = filter(tag_visible, texts)  \n",
    "    return u\" \".join(t.strip() for t in visible_texts)"
   ]
  },
  {
   "cell_type": "code",
   "execution_count": 7,
   "metadata": {},
   "outputs": [
    {
     "name": "stdout",
     "output_type": "stream",
     "text": [
      "\n",
      "\n",
      " Skip to main page content\n",
      "    An official website of the United States government   Here's how you know\n",
      "\n",
      "The .gov means it’s official.  Federal government websites often end in .gov or .mil. Before\n",
      "\n",
      "\n",
      "  sharing sensitive information, make sure you’re on a federal\n",
      "\n",
      "\n",
      "  government site.\n",
      "   The site is secure.  The https:// ensures that you are connecting to the\n",
      "\n",
      "\n",
      "  official website and that any information you provide is encrypted\n",
      "\n",
      "\n",
      "  and transmitted securely.\n",
      "\n",
      "\n",
      "  Log in\n",
      "Show account info\n",
      "  Close  Account   Logged in as:  username\n",
      "Dashboard  Publications  Account settings  Log out\n",
      "\n",
      "Access keys  NCBI Homepage  MyNCBI Homepage  Main Content  Main Navigation\n",
      "\n",
      "\n",
      "\n",
      "    .\n",
      "    Follow NCBI\n",
      "\n",
      "\n",
      "\n",
      "\n",
      "\n",
      "\n",
      "\n",
      "\n",
      "\n",
      "  Connect with NLM\n",
      "\n",
      "\n",
      "\n",
      "\n",
      "\n",
      "\n",
      "\n",
      "National Library of Medicine  8600 Rockville Pike Bethesda, MD 20894    Web Policies  FOIA  HHS Vulnerability Disclosure    Help  Accessibility  Careers\n",
      "    NLM    NIH    HHS    USA.gov\n",
      "\n",
      "\n",
      "\n",
      "\n",
      "    \n"
     ]
    }
   ],
   "source": [
    "url = \"https://www.ncbi.nlm.nih.gov/datasets/genome/GCF_000874545.1/\"\n",
    "html = urllib.request.urlopen(url).read()\n",
    "print(text_from_html(html).replace(\"     \", \"\\n\"))\n"
   ]
  },
  {
   "cell_type": "code",
   "execution_count": 8,
   "metadata": {},
   "outputs": [],
   "source": [
    "soup = BeautifulSoup(html, 'html.parser')\n",
    "with open(\"test.md\", \"w\") as file:\n",
    "    file.write(soup.getText())"
   ]
  },
  {
   "cell_type": "code",
   "execution_count": 9,
   "metadata": {},
   "outputs": [],
   "source": [
    "request = urllib.request.Request(\"https://www.ncbi.nlm.nih.gov/pmc/articles/PMC2848261/\", headers = {'User-Agent': 'Mozilla/5.0'})\n",
    "html = urllib.request.urlopen(request).read()\n",
    "soup = BeautifulSoup(html, 'html.parser')\n",
    "with open(\"test.md\", \"w\") as file:\n",
    "    file.write(soup.getText())\n"
   ]
  },
  {
   "cell_type": "code",
   "execution_count": 10,
   "metadata": {},
   "outputs": [],
   "source": [
    "headers = {\n",
    "    'authority': 'www.google.com',\n",
    "    'accept': 'text/html,application/xhtml+xml,application/xml;q=0.9,image/avif,image/webp,image/apng,*/*;q=0.8,application/signed-exchange;v=b3;q=0.7',\n",
    "    'accept-language': 'en-US,en;q=0.9',\n",
    "    'cache-control': 'max-age=0',\n",
    "    'sec-ch-ua': '\"Not/A)Brand\";v=\"99\", \"Google Chrome\";v=\"115\", \"Chromium\";v=\"115\"',\n",
    "    'sec-ch-ua-arch': '\"x86\"',\n",
    "    'sec-ch-ua-bitness': '\"64\"',\n",
    "    'sec-ch-ua-full-version': '\"115.0.5790.110\"',\n",
    "    'sec-ch-ua-full-version-list': '\"Not/A)Brand\";v=\"99.0.0.0\", \"Google Chrome\";v=\"115.0.5790.110\", \"Chromium\";v=\"115.0.5790.110\"',\n",
    "    'sec-ch-ua-mobile': '?0',\n",
    "    'sec-ch-ua-model': '\"\"',\n",
    "    'sec-ch-ua-platform': 'Windows',\n",
    "    'sec-ch-ua-platform-version': '15.0.0',\n",
    "    'sec-ch-ua-wow64': '?0',\n",
    "    'sec-fetch-dest': 'document',\n",
    "    'sec-fetch-mode': 'navigate',\n",
    "    'sec-fetch-site': 'same-origin',\n",
    "    'sec-fetch-user': '?1',\n",
    "    'upgrade-insecure-requests': '1',\n",
    "    'user-agent': 'Mozilla/5.0 (Windows NT 10.0; Win64; x64) AppleWebKit/537.36 (KHTML, like Gecko) Chrome/115.0.0.0 Safari/537.36',\n",
    "    'x-client-data': '#..',\n",
    "}\n"
   ]
  },
  {
   "cell_type": "code",
   "execution_count": 11,
   "metadata": {},
   "outputs": [
    {
     "name": "stdout",
     "output_type": "stream",
     "text": [
      "Playing the Numbers Game: R0 | NETEC : https://netec.org/2020/01/30/playing-the-numbers-game-r0/\n",
      "Is the Elimination of HIV Infection Within Reach in the United States ... : https://www.ncbi.nlm.nih.gov/pmc/articles/PMC2848261/\n",
      "Why the proportion of transmission during early-stage HIV infection ... : https://www.pnas.org/doi/pdf/10.1073/pnas.1323007111\n",
      "Complexity of the Basic Reproduction Number (R0) - Volume 25 ... : https://wwwnc.cdc.gov/eid/article/25/1/17-1901_article\n",
      "R0 and the elimination of HIV in Africa: Will 90-90-90 be sufficient? : https://arxiv.org/abs/1304.3720\n",
      "What Is R0? Gauging Contagious Infections : https://www.healthline.com/health/r-naught-reproduction-number\n",
      "Basic reproduction number - Wikipedia : https://en.wikipedia.org/wiki/Basic_reproduction_number\n",
      "Prevalence and predictive value of intermittent viremia with ... : https://pubmed.ncbi.nlm.nih.gov/11448280/\n",
      "Global HIV Programme : https://www.who.int/teams/global-hiv-hepatitis-and-stis-programmes/hiv/strategic-information/hiv-data-and-statistics\n",
      "Could widespread use of combination antiretroviral therapy ... : https://pubmed.ncbi.nlm.nih.gov/12150848/\n"
     ]
    }
   ],
   "source": [
    "total_context = \"\"\"\n",
    "\"\"\"\n",
    "\n",
    "response = requests.get(f\"https://www.googleapis.com/customsearch/v1?key={Google_API_KEY}&cx={Search_Engine_ID}&q={Query}\")\n",
    "\n",
    "for item in response.json()[\"items\"]:\n",
    "    print(f\"{item['title']} : {item['link']}\")\n",
    "    link = item['link']\n",
    "    try: \n",
    "        request = urllib.request.Request(link, headers = headers)\n",
    "        html = urllib.request.urlopen(request).read()\n",
    "        soup = BeautifulSoup(html, 'html.parser')\n",
    "        \n",
    "        total_context += f\"\\n INFORMATION FROM LINK: {link} \\n\"\n",
    "        total_context += soup.getText()\n",
    "    except:\n",
    "        pass"
   ]
  },
  {
   "cell_type": "code",
   "execution_count": 12,
   "metadata": {},
   "outputs": [],
   "source": [
    "with open(\"test.md\", \"w\") as file:\n",
    "    file.write(total_context)   "
   ]
  },
  {
   "cell_type": "code",
   "execution_count": null,
   "metadata": {},
   "outputs": [],
   "source": []
  }
 ],
 "metadata": {
  "kernelspec": {
   "display_name": "venv",
   "language": "python",
   "name": "python3"
  },
  "language_info": {
   "codemirror_mode": {
    "name": "ipython",
    "version": 3
   },
   "file_extension": ".py",
   "mimetype": "text/x-python",
   "name": "python",
   "nbconvert_exporter": "python",
   "pygments_lexer": "ipython3",
   "version": "3.12.2"
  }
 },
 "nbformat": 4,
 "nbformat_minor": 2
}
