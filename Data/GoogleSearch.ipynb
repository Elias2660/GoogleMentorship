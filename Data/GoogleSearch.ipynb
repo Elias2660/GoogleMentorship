{
 "cells": [
  {
   "cell_type": "code",
   "execution_count": 1,
   "metadata": {},
   "outputs": [],
   "source": [
    "import requests\n",
    "import dotenv"
   ]
  },
  {
   "cell_type": "code",
   "execution_count": 2,
   "metadata": {},
   "outputs": [],
   "source": [
    "Google_API_KEY = dotenv.get_key(\"../.env\", 'Google_Search_Key')\n",
    "Search_Engine_ID = dotenv.get_key(\"../.env\", 'Search_Engine_ID')"
   ]
  },
  {
   "cell_type": "code",
   "execution_count": 3,
   "metadata": {},
   "outputs": [],
   "source": [
    "Query = \"r0 value of monkeypox\"\n",
    "response = requests.get(f\"https://www.googleapis.com/customsearch/v1?key={Google_API_KEY}&cx={Search_Engine_ID}&q={Query}\")"
   ]
  },
  {
   "cell_type": "code",
   "execution_count": 4,
   "metadata": {},
   "outputs": [
    {
     "name": "stdout",
     "output_type": "stream",
     "text": [
      "Monkeypox: A Comprehensive Review of Transmission ... : https://www.ncbi.nlm.nih.gov/pmc/articles/PMC9345383/\n",
      "Study and prediction of the 2022 global monkeypox epidemic ... : https://www.sciencedirect.com/science/article/pii/S2588933822000267\n",
      "Modelling human-to-human transmission of monkeypox - PMC : https://www.ncbi.nlm.nih.gov/pmc/articles/PMC7463189/\n",
      "Master Question List for Monkeypox Virus (MPXV) : https://www.dhs.gov/sites/default/files/2022-07/22_0712_st_monkeypox_mql.pdf\n",
      "Does it matter who is spreading monkeypox? : https://www.thelancet.com/pdfs/journals/laninf/PIIS1473-3099(22)00431-5.pdf\n",
      "How Contagious Is Monkeypox? R Number vs. COVID : https://www.newsweek.com/monkeypox-r-number-compared-covid-how-contagious-1709975\n",
      "Misinformation making a disease outbreak worse: outcomes ... : https://journals.sagepub.com/doi/10.1177/0037549719885021\n",
      "Monkeypox and COVID-19 are different — in a good way : NPR : https://www.npr.org/2022/05/24/1101003523/monkeypox-covid-19-differences\n",
      "Inference of R0 and Transmission Heterogeneity from the Size ... : https://journals.plos.org/ploscompbiol/article?id=10.1371/journal.pcbi.1002993\n",
      "Monkeypox and Pregnancy: Latest Updates : https://pubmed.ncbi.nlm.nih.gov/36423129/\n"
     ]
    }
   ],
   "source": [
    "# from pprint import pprint\n",
    "# pprint(response.json()[\"items\"][1])\n",
    "\n",
    "for item in response.json()[\"items\"]:\n",
    "    print(f\"{item['title']} : {item['link']}\")"
   ]
  },
  {
   "cell_type": "code",
   "execution_count": 11,
   "metadata": {},
   "outputs": [],
   "source": [
    "from bs4 import BeautifulSoup\n",
    "import urllib\n",
    "import bs4\n",
    "\n",
    "def tag_visible(element):\n",
    "    if element.parent.name in ['style', 'script', 'head', 'title', 'meta', '[document]']:\n",
    "        return False\n",
    "    if isinstance(element, bs4.element.Comment):\n",
    "        return False\n",
    "    return True"
   ]
  },
  {
   "cell_type": "code",
   "execution_count": 19,
   "metadata": {},
   "outputs": [],
   "source": [
    "\n",
    "def text_from_html(body):\n",
    "    soup = BeautifulSoup(body, 'html.parser')\n",
    "    texts = soup.findAll(string=True)\n",
    "    visible_texts = filter(tag_visible, texts)  \n",
    "    return u\" \".join(t.strip() for t in visible_texts)"
   ]
  },
  {
   "cell_type": "code",
   "execution_count": 21,
   "metadata": {},
   "outputs": [
    {
     "name": "stdout",
     "output_type": "stream",
     "text": [
      "\n",
      "\n",
      "\n",
      "\n",
      "\n",
      "  Monkeypox and Pregnancy: Latest Updates    Viruses . 2022 Nov 14;14(11):2520.   doi: 10.3390/v14112520.\n",
      " Authors   Alexandre Cuérel  1 , Guillaume Favre  1 , Manon Vouga  1 , Léo Pomar  1  2\n",
      "Affiliations   1 Department Woman-Mother-Child, Lausanne University Hospital and University of Lausanne, 1011 Lausanne, Switzerland.  2 School of Health Sciences (HESAV), HES-SO University of Applied Sciences and Arts Western Switzerland, 1011 Lausanne, Switzerland.\n",
      "    PMID:  36423129\n",
      " PMCID:  PMC9693336\n",
      " DOI:  10.3390/v14112520\n",
      "  Abstract   Monkeypox virus (MPXV) has emerged as a threatening zoonosis. Its spread around the world has been growing fast over the last 2 years, particularly in 2022. The reasons for this sudden spread are probably multifactorial. The R0 values of the two MPXV clades are rather low, and a massive pandemic is considered unlikely, although the increase in the number of single-nucleotide polymorphisms found in the 2022 MPXV strain could indicate an accelerated human adaptation. Very little is known about the risks of an infection during pregnancy for both the mother and the fetus. Further observations must be made to create clear, adapted, evidence-based guidelines. This article summarizes the current knowledge about MPXV infections and similar pregnancy virus infections.    Keywords: delivery; miscarriage; monkeypox; orthopox; pregnancy; smallpox; vaccine; vertical transmission.    Publication types  Review    MeSH terms  Female Humans Monkeypox virus / genetics Mpox (monkeypox)* / epidemiology Pregnancy    Grants and funding  This research received no external funding.\n",
      "\n"
     ]
    }
   ],
   "source": [
    "url = \"https://pubmed.ncbi.nlm.nih.gov/36423129/\"\n",
    "html = urllib.request.urlopen(url).read()\n",
    "print(text_from_html(html).replace(\"     \", \"\\n\"))\n"
   ]
  },
  {
   "cell_type": "code",
   "execution_count": 23,
   "metadata": {},
   "outputs": [],
   "source": [
    "soup = BeautifulSoup(html, 'html.parser')\n",
    "with open(\"test.md\", \"w\") as file:\n",
    "    file.write(soup.getText())"
   ]
  },
  {
   "cell_type": "code",
   "execution_count": 27,
   "metadata": {},
   "outputs": [],
   "source": [
    "request = urllib.request.Request(\"https://www.ncbi.nlm.nih.gov/pmc/articles/PMC9345383\", headers = {'User-Agent': 'Mozilla/5.0'})\n",
    "\n",
    "html = urllib.request.urlopen(request).read()\n",
    "soup = BeautifulSoup(html, 'html.parser')\n",
    "with open(\"test.md\", \"w\") as file:\n",
    "    file.write(soup.getText())\n"
   ]
  },
  {
   "cell_type": "code",
   "execution_count": null,
   "metadata": {},
   "outputs": [],
   "source": []
  }
 ],
 "metadata": {
  "kernelspec": {
   "display_name": "venv",
   "language": "python",
   "name": "python3"
  },
  "language_info": {
   "codemirror_mode": {
    "name": "ipython",
    "version": 3
   },
   "file_extension": ".py",
   "mimetype": "text/x-python",
   "name": "python",
   "nbconvert_exporter": "python",
   "pygments_lexer": "ipython3",
   "version": "3.12.2"
  }
 },
 "nbformat": 4,
 "nbformat_minor": 2
}
