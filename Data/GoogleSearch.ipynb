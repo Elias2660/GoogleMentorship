{
 "cells": [
  {
   "cell_type": "code",
   "execution_count": 13,
   "metadata": {},
   "outputs": [],
   "source": [
    "import requests\n",
    "import dotenv"
   ]
  },
  {
   "cell_type": "code",
   "execution_count": 14,
   "metadata": {},
   "outputs": [],
   "source": [
    "Google_API_KEY = dotenv.get_key(\"../.env\", 'Google_Search_Key')\n",
    "Search_Engine_ID = dotenv.get_key(\"../.env\", 'Search_Engine_ID')"
   ]
  },
  {
   "cell_type": "code",
   "execution_count": 15,
   "metadata": {},
   "outputs": [],
   "source": [
    "Query = \"r0 value of HIV\"\n",
    "URL = f\"https://www.googleapis.com/customsearch/v1?key={Google_API_KEY}&cx={Search_Engine_ID}&q={Query}\"\n",
    "response = requests.get(f\"https://www.googleapis.com/customsearch/v1?key={Google_API_KEY}&cx={Search_Engine_ID}&q={Query}\")"
   ]
  },
  {
   "cell_type": "code",
   "execution_count": null,
   "metadata": {},
   "outputs": [],
   "source": []
  },
  {
   "cell_type": "code",
   "execution_count": 16,
   "metadata": {},
   "outputs": [
    {
     "name": "stdout",
     "output_type": "stream",
     "text": [
      "Playing the Numbers Game: R0 | NETEC : https://netec.org/2020/01/30/playing-the-numbers-game-r0/\n",
      "Is the Elimination of HIV Infection Within Reach in the United States ... : https://www.ncbi.nlm.nih.gov/pmc/articles/PMC2848261/\n",
      "Why the proportion of transmission during early-stage HIV infection ... : https://www.pnas.org/doi/pdf/10.1073/pnas.1323007111\n",
      "R0 and the elimination of HIV in Africa: Will 90-90-90 be sufficient? : https://arxiv.org/abs/1304.3720\n",
      "Complexity of the Basic Reproduction Number (R0) - Volume 25 ... : https://wwwnc.cdc.gov/eid/article/25/1/17-1901_article\n",
      "What Is R0? Gauging Contagious Infections : https://www.healthline.com/health/r-naught-reproduction-number\n",
      "What is R0? : https://www.news-medical.net/health/What-is-R0.aspx\n",
      "Basic reproduction number - Wikipedia : https://en.wikipedia.org/wiki/Basic_reproduction_number\n",
      "Basic Reproduction Number - an overview | ScienceDirect Topics : https://www.sciencedirect.com/topics/biochemistry-genetics-and-molecular-biology/basic-reproduction-number\n",
      "Making the end of AIDS real: consensus building around what we ... : https://www.unaids.org/sites/default/files/media_asset/glion_oct2017_meeting_report_en.pdf\n"
     ]
    }
   ],
   "source": [
    "# from pprint import pprint\n",
    "# pprint(response.json()[\"items\"][1])\n",
    "\n",
    "for item in response.json()[\"items\"]:\n",
    "    print(f\"{item['title']} : {item['link']}\")"
   ]
  },
  {
   "cell_type": "code",
   "execution_count": 17,
   "metadata": {},
   "outputs": [],
   "source": [
    "from bs4 import BeautifulSoup\n",
    "import urllib\n",
    "import bs4\n",
    "\n",
    "def tag_visible(element):\n",
    "    if element.parent.name in ['style', 'script', 'head', 'title', 'meta', '[document]']:\n",
    "        return False\n",
    "    if isinstance(element, bs4.element.Comment):\n",
    "        return False\n",
    "    return True"
   ]
  },
  {
   "cell_type": "code",
   "execution_count": 18,
   "metadata": {},
   "outputs": [],
   "source": [
    "\n",
    "def text_from_html(body):\n",
    "    soup = BeautifulSoup(body, 'html.parser')\n",
    "    texts = soup.findAll(string=True)\n",
    "    visible_texts = filter(tag_visible, texts)  \n",
    "    return u\" \".join(t.strip() for t in visible_texts)"
   ]
  },
  {
   "cell_type": "code",
   "execution_count": 19,
   "metadata": {},
   "outputs": [
    {
     "name": "stdout",
     "output_type": "stream",
     "text": [
      "\n",
      "\n",
      "\n",
      "\n",
      "\n",
      "  Monkeypox and Pregnancy: Latest Updates    Viruses . 2022 Nov 14;14(11):2520.   doi: 10.3390/v14112520.\n",
      " Authors   Alexandre Cuérel  1 , Guillaume Favre  1 , Manon Vouga  1 , Léo Pomar  1  2\n",
      "Affiliations   1 Department Woman-Mother-Child, Lausanne University Hospital and University of Lausanne, 1011 Lausanne, Switzerland.  2 School of Health Sciences (HESAV), HES-SO University of Applied Sciences and Arts Western Switzerland, 1011 Lausanne, Switzerland.\n",
      "    PMID:  36423129\n",
      " PMCID:  PMC9693336\n",
      " DOI:  10.3390/v14112520\n",
      "  Abstract   Monkeypox virus (MPXV) has emerged as a threatening zoonosis. Its spread around the world has been growing fast over the last 2 years, particularly in 2022. The reasons for this sudden spread are probably multifactorial. The R0 values of the two MPXV clades are rather low, and a massive pandemic is considered unlikely, although the increase in the number of single-nucleotide polymorphisms found in the 2022 MPXV strain could indicate an accelerated human adaptation. Very little is known about the risks of an infection during pregnancy for both the mother and the fetus. Further observations must be made to create clear, adapted, evidence-based guidelines. This article summarizes the current knowledge about MPXV infections and similar pregnancy virus infections.    Keywords: delivery; miscarriage; monkeypox; orthopox; pregnancy; smallpox; vaccine; vertical transmission.    Publication types  Review    MeSH terms  Female Humans Monkeypox virus / genetics Mpox (monkeypox)* / epidemiology Pregnancy    Grants and funding  This research received no external funding.\n",
      "\n"
     ]
    }
   ],
   "source": [
    "url = \"https://pubmed.ncbi.nlm.nih.gov/36423129/\"\n",
    "html = urllib.request.urlopen(url).read()\n",
    "print(text_from_html(html).replace(\"     \", \"\\n\"))\n"
   ]
  },
  {
   "cell_type": "code",
   "execution_count": 20,
   "metadata": {},
   "outputs": [],
   "source": [
    "soup = BeautifulSoup(html, 'html.parser')\n",
    "with open(\"test.md\", \"w\") as file:\n",
    "    file.write(soup.getText())"
   ]
  },
  {
   "cell_type": "code",
   "execution_count": 21,
   "metadata": {},
   "outputs": [],
   "source": [
    "request = urllib.request.Request(\"https://www.ncbi.nlm.nih.gov/pmc/articles/PMC2848261/\", headers = {'User-Agent': 'Mozilla/5.0'})\n",
    "html = urllib.request.urlopen(request).read()\n",
    "soup = BeautifulSoup(html, 'html.parser')\n",
    "with open(\"test.md\", \"w\") as file:\n",
    "    file.write(soup.getText())\n"
   ]
  },
  {
   "cell_type": "code",
   "execution_count": 25,
   "metadata": {},
   "outputs": [],
   "source": [
    "headers = {\n",
    "    'authority': 'www.google.com',\n",
    "    'accept': 'text/html,application/xhtml+xml,application/xml;q=0.9,image/avif,image/webp,image/apng,*/*;q=0.8,application/signed-exchange;v=b3;q=0.7',\n",
    "    'accept-language': 'en-US,en;q=0.9',\n",
    "    'cache-control': 'max-age=0',\n",
    "    'sec-ch-ua': '\"Not/A)Brand\";v=\"99\", \"Google Chrome\";v=\"115\", \"Chromium\";v=\"115\"',\n",
    "    'sec-ch-ua-arch': '\"x86\"',\n",
    "    'sec-ch-ua-bitness': '\"64\"',\n",
    "    'sec-ch-ua-full-version': '\"115.0.5790.110\"',\n",
    "    'sec-ch-ua-full-version-list': '\"Not/A)Brand\";v=\"99.0.0.0\", \"Google Chrome\";v=\"115.0.5790.110\", \"Chromium\";v=\"115.0.5790.110\"',\n",
    "    'sec-ch-ua-mobile': '?0',\n",
    "    'sec-ch-ua-model': '\"\"',\n",
    "    'sec-ch-ua-platform': 'Windows',\n",
    "    'sec-ch-ua-platform-version': '15.0.0',\n",
    "    'sec-ch-ua-wow64': '?0',\n",
    "    'sec-fetch-dest': 'document',\n",
    "    'sec-fetch-mode': 'navigate',\n",
    "    'sec-fetch-site': 'same-origin',\n",
    "    'sec-fetch-user': '?1',\n",
    "    'upgrade-insecure-requests': '1',\n",
    "    'user-agent': 'Mozilla/5.0 (Windows NT 10.0; Win64; x64) AppleWebKit/537.36 (KHTML, like Gecko) Chrome/115.0.0.0 Safari/537.36',\n",
    "    'x-client-data': '#..',\n",
    "}\n"
   ]
  },
  {
   "cell_type": "code",
   "execution_count": 27,
   "metadata": {},
   "outputs": [
    {
     "name": "stdout",
     "output_type": "stream",
     "text": [
      "Playing the Numbers Game: R0 | NETEC : https://netec.org/2020/01/30/playing-the-numbers-game-r0/\n",
      "Is the Elimination of HIV Infection Within Reach in the United States ... : https://www.ncbi.nlm.nih.gov/pmc/articles/PMC2848261/\n",
      "Why the proportion of transmission during early-stage HIV infection ... : https://www.pnas.org/doi/pdf/10.1073/pnas.1323007111\n",
      "R0 and the elimination of HIV in Africa: Will 90-90-90 be sufficient? : https://arxiv.org/abs/1304.3720\n",
      "Complexity of the Basic Reproduction Number (R0) - Volume 25 ... : https://wwwnc.cdc.gov/eid/article/25/1/17-1901_article\n",
      "What Is R0? Gauging Contagious Infections : https://www.healthline.com/health/r-naught-reproduction-number\n",
      "What is R0? : https://www.news-medical.net/health/What-is-R0.aspx\n",
      "Basic reproduction number - Wikipedia : https://en.wikipedia.org/wiki/Basic_reproduction_number\n",
      "Basic Reproduction Number - an overview | ScienceDirect Topics : https://www.sciencedirect.com/topics/biochemistry-genetics-and-molecular-biology/basic-reproduction-number\n",
      "Making the end of AIDS real: consensus building around what we ... : https://www.unaids.org/sites/default/files/media_asset/glion_oct2017_meeting_report_en.pdf\n"
     ]
    },
    {
     "name": "stderr",
     "output_type": "stream",
     "text": [
      "Some characters could not be decoded, and were replaced with REPLACEMENT CHARACTER.\n"
     ]
    }
   ],
   "source": [
    "total_context = \"\"\"\n",
    "\"\"\"\n",
    "\n",
    "response = requests.get(f\"https://www.googleapis.com/customsearch/v1?key={Google_API_KEY}&cx={Search_Engine_ID}&q={Query}\")\n",
    "\n",
    "for item in response.json()[\"items\"]:\n",
    "    print(f\"{item['title']} : {item['link']}\")\n",
    "    link = item['link']\n",
    "    try: \n",
    "        request = urllib.request.Request(link, headers = headers)\n",
    "        html = urllib.request.urlopen(request).read()\n",
    "        soup = BeautifulSoup(html, 'html.parser')\n",
    "        \n",
    "        total_context += f\"\\n INFORMATION FROM LINK: {link} \\n\"\n",
    "        total_context += soup.getText()\n",
    "    except:\n",
    "        pass"
   ]
  },
  {
   "cell_type": "code",
   "execution_count": 30,
   "metadata": {},
   "outputs": [],
   "source": [
    "with open(\"test.md\", \"w\") as file:\n",
    "    file.write(total_context)   "
   ]
  },
  {
   "cell_type": "code",
   "execution_count": null,
   "metadata": {},
   "outputs": [],
   "source": []
  }
 ],
 "metadata": {
  "kernelspec": {
   "display_name": "venv",
   "language": "python",
   "name": "python3"
  },
  "language_info": {
   "codemirror_mode": {
    "name": "ipython",
    "version": 3
   },
   "file_extension": ".py",
   "mimetype": "text/x-python",
   "name": "python",
   "nbconvert_exporter": "python",
   "pygments_lexer": "ipython3",
   "version": "3.12.2"
  }
 },
 "nbformat": 4,
 "nbformat_minor": 2
}
