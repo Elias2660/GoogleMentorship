{
 "cells": [
  {
   "cell_type": "code",
   "execution_count": 1,
   "metadata": {},
   "outputs": [],
   "source": [
    "import json\n",
    "import os\n",
    "import dotenv"
   ]
  },
  {
   "cell_type": "code",
   "execution_count": 2,
   "metadata": {},
   "outputs": [],
   "source": [
    "API_KEY = dotenv.get_key('../.env', 'OpenAI_API_KEY')"
   ]
  },
  {
   "cell_type": "code",
   "execution_count": 3,
   "metadata": {},
   "outputs": [],
   "source": [
    "context = \"\"\n",
    "with open(\"test.md\", \"r\") as f:\n",
    "    context = f.read()\n",
    "    "
   ]
  },
  {
   "cell_type": "code",
   "execution_count": 4,
   "metadata": {},
   "outputs": [
    {
     "ename": "ModuleNotFoundError",
     "evalue": "No module named 'openai'",
     "output_type": "error",
     "traceback": [
      "\u001b[0;31m---------------------------------------------------------------------------\u001b[0m",
      "\u001b[0;31mModuleNotFoundError\u001b[0m                       Traceback (most recent call last)",
      "Cell \u001b[0;32mIn[4], line 1\u001b[0m\n\u001b[0;32m----> 1\u001b[0m \u001b[38;5;28;01mfrom\u001b[39;00m \u001b[38;5;21;01mopenai\u001b[39;00m \u001b[38;5;28;01mimport\u001b[39;00m OpenAI\n\u001b[1;32m      2\u001b[0m client \u001b[38;5;241m=\u001b[39m OpenAI(api_key\u001b[38;5;241m=\u001b[39mAPI_KEY)\n",
      "\u001b[0;31mModuleNotFoundError\u001b[0m: No module named 'openai'"
     ]
    }
   ],
   "source": [
    "from openai import OpenAI\n",
    "client = OpenAI(api_key=API_KEY)"
   ]
  },
  {
   "cell_type": "code",
   "execution_count": 5,
   "metadata": {},
   "outputs": [
    {
     "ename": "NameError",
     "evalue": "name 'client' is not defined",
     "output_type": "error",
     "traceback": [
      "\u001b[0;31m---------------------------------------------------------------------------\u001b[0m",
      "\u001b[0;31mNameError\u001b[0m                                 Traceback (most recent call last)",
      "Cell \u001b[0;32mIn[5], line 1\u001b[0m\n\u001b[0;32m----> 1\u001b[0m completion \u001b[38;5;241m=\u001b[39m client\u001b[38;5;241m.\u001b[39mchat\u001b[38;5;241m.\u001b[39mcompletions\u001b[38;5;241m.\u001b[39mcreate(\n\u001b[1;32m      2\u001b[0m     model\u001b[38;5;241m=\u001b[39m\u001b[38;5;124m\"\u001b[39m\u001b[38;5;124mgpt-4-turbo-preview\u001b[39m\u001b[38;5;124m\"\u001b[39m,\n\u001b[1;32m      3\u001b[0m     messages\u001b[38;5;241m=\u001b[39m[\n\u001b[1;32m      4\u001b[0m         {\n\u001b[1;32m      5\u001b[0m             \u001b[38;5;124m\"\u001b[39m\u001b[38;5;124mrole\u001b[39m\u001b[38;5;124m\"\u001b[39m: \u001b[38;5;124m\"\u001b[39m\u001b[38;5;124msystem\u001b[39m\u001b[38;5;124m\"\u001b[39m,\n\u001b[1;32m      6\u001b[0m             \u001b[38;5;124m\"\u001b[39m\u001b[38;5;124mcontent\u001b[39m\u001b[38;5;124m\"\u001b[39m: \u001b[38;5;124mf\u001b[39m\u001b[38;5;124m\"\"\"\u001b[39m\n\u001b[1;32m      7\u001b[0m \u001b[38;5;124m                Write as an output no more words than specified. \u001b[39m\n\u001b[1;32m      8\u001b[0m \u001b[38;5;124m                \u001b[39m\n\u001b[1;32m      9\u001b[0m \u001b[38;5;124m                In total, there should be at most four lines out.\u001b[39m\n\u001b[1;32m     10\u001b[0m \u001b[38;5;124m                \u001b[39m\n\u001b[1;32m     11\u001b[0m \u001b[38;5;124m                The first one should have two numbers, separated with a comma, the next should have a citation, and the next should either be blank or have a citation, as a URL.\u001b[39m\n\u001b[1;32m     12\u001b[0m \u001b[38;5;124m                \u001b[39m\n\u001b[1;32m     13\u001b[0m \u001b[38;5;124m                If you provide an url providing information on the r naught value of the virus HIV, please make sure it is a reliable source and included the r0 value of HIV in the text.\u001b[39m\n\u001b[1;32m     14\u001b[0m \u001b[38;5;124m                \u001b[39m\n\u001b[1;32m     15\u001b[0m \u001b[38;5;124m                You are smart :)\u001b[39m\n\u001b[1;32m     16\u001b[0m \u001b[38;5;124m                \u001b[39m\n\u001b[1;32m     17\u001b[0m \u001b[38;5;124m                Here\u001b[39m\u001b[38;5;124m'\u001b[39m\u001b[38;5;124ms some context: \u001b[39m\n\u001b[1;32m     18\u001b[0m \u001b[38;5;124m                \u001b[39m\u001b[38;5;132;01m{\u001b[39;00mcontext\u001b[38;5;132;01m}\u001b[39;00m\n\u001b[1;32m     19\u001b[0m \u001b[38;5;124m                \u001b[39m\n\u001b[1;32m     20\u001b[0m \u001b[38;5;124m     \u001b[39m\u001b[38;5;124m\"\"\"\u001b[39m,\n\u001b[1;32m     21\u001b[0m         },\n\u001b[1;32m     22\u001b[0m         {\n\u001b[1;32m     23\u001b[0m             \u001b[38;5;124m\"\u001b[39m\u001b[38;5;124mrole\u001b[39m\u001b[38;5;124m\"\u001b[39m: \u001b[38;5;124m\"\u001b[39m\u001b[38;5;124muser\u001b[39m\u001b[38;5;124m\"\u001b[39m,\n\u001b[1;32m     24\u001b[0m             \u001b[38;5;124m\"\u001b[39m\u001b[38;5;124mcontent\u001b[39m\u001b[38;5;124m\"\u001b[39m: \u001b[38;5;124m\"\"\"\u001b[39m\n\u001b[1;32m     25\u001b[0m \u001b[38;5;124m                    Write as an output no more words than specified. In total, there should be at most four lines out. The first one should have two numbers, separated with a comma, the next should have a citation, and the next should either be blank or have a citation, preferably as a URL.\u001b[39m\n\u001b[1;32m     26\u001b[0m \u001b[38;5;124m      \u001b[39m\n\u001b[1;32m     27\u001b[0m \u001b[38;5;124m                    Write the average R0 value of HIV in the first line. Do it in numeric form to the 2nd decimal. If the R0 values do not exist, estimate one value from the range given and put the range after that value with a comma separating them. This should be one line. If you cannot find a range, print “NaN”\u001b[39m\n\u001b[1;32m     28\u001b[0m \n\u001b[1;32m     29\u001b[0m \u001b[38;5;124m                    In the following two lines, put the sources, preferably as URLs, that helped lead you to this conclusion, after that end the response. If you only have one source, please put it on the first line, leaving the second one blank.\u001b[39m\n\u001b[1;32m     30\u001b[0m \n\u001b[1;32m     31\u001b[0m \u001b[38;5;124m                    Double-check your result. In the following line, output either “true” if both the citations relate to the average R0 value of the virus HIV. If not, output “false”. \u001b[39m\n\u001b[1;32m     32\u001b[0m \n\u001b[1;32m     33\u001b[0m \u001b[38;5;124m                    Write as an output no more words than specified. In total, there should be at most four lines out. The first one should have two numbers separated with a comma, the next should have a some form of citation, and the next should either be blank or have some form of citation. The final should have a true/false value based upon if you found the sources to be actually related when double checking your work.\u001b[39m\n\u001b[1;32m     34\u001b[0m \n\u001b[1;32m     35\u001b[0m \u001b[38;5;124m      \u001b[39m\u001b[38;5;124m\"\"\"\u001b[39m,\n\u001b[1;32m     36\u001b[0m         },\n\u001b[1;32m     37\u001b[0m     ],\n\u001b[1;32m     38\u001b[0m )\n",
      "\u001b[0;31mNameError\u001b[0m: name 'client' is not defined"
     ]
    }
   ],
   "source": [
    "completion = client.chat.completions.create(\n",
    "    model=\"gpt-4-turbo-preview\",\n",
    "    messages=[\n",
    "        {\n",
    "            \"role\": \"system\",\n",
    "            \"content\": f\"\"\"\n",
    "                Write as an output no more words than specified. \n",
    "                \n",
    "                In total, there should be at most four lines out.\n",
    "                \n",
    "                The first one should have two numbers, separated with a comma, the next should have a citation, and the next should either be blank or have a citation, as a URL.\n",
    "                \n",
    "                If you provide an url providing information on the r naught value of the virus HIV, please make sure it is a reliable source and included the r0 value of HIV in the text.\n",
    "                \n",
    "                You are smart :)\n",
    "                \n",
    "                Here's some context: \n",
    "                {context}\n",
    "                \n",
    "     \"\"\",\n",
    "        },\n",
    "        {\n",
    "            \"role\": \"user\",\n",
    "            \"content\": \"\"\"\n",
    "                    Write as an output no more words than specified. In total, there should be at most four lines out. The first one should have two numbers, separated with a comma, the next should have a citation, and the next should either be blank or have a citation, preferably as a URL.\n",
    "      \n",
    "                    Write the average R0 value of HIV in the first line. Do it in numeric form to the 2nd decimal. If the R0 values do not exist, estimate one value from the range given and put the range after that value with a comma separating them. This should be one line. If you cannot find a range, print “NaN”\n",
    "\n",
    "                    In the following two lines, put the sources, preferably as URLs, that helped lead you to this conclusion, after that end the response. If you only have one source, please put it on the first line, leaving the second one blank.\n",
    "\n",
    "                    Double-check your result. In the following line, output either “true” if both the citations relate to the average R0 value of the virus HIV. If not, output “false”. \n",
    "\n",
    "                    Write as an output no more words than specified. In total, there should be at most four lines out. The first one should have two numbers separated with a comma, the next should have a some form of citation, and the next should either be blank or have some form of citation. The final should have a true/false value based upon if you found the sources to be actually related when double checking your work.\n",
    "\n",
    "      \"\"\",\n",
    "        },\n",
    "    ],\n",
    ")"
   ]
  },
  {
   "cell_type": "code",
   "execution_count": null,
   "metadata": {},
   "outputs": [
    {
     "data": {
      "text/plain": [
       "ChatCompletion(id='chatcmpl-92UHzECvRWMf4ytcIdP9qNhu0vOr2', choices=[Choice(finish_reason='stop', index=0, logprobs=None, message=ChatCompletionMessage(content='1.5, 0.75-1.5\\nhttps://www.ncbi.nlm.nih.gov/pmc/articles/PMC2848261/\\n \\nfalse', role='assistant', function_call=None, tool_calls=None))], created=1710380115, model='gpt-4-0125-preview', object='chat.completion', system_fingerprint='fp_c121a3f431', usage=CompletionUsage(completion_tokens=31, prompt_tokens=5320, total_tokens=5351))"
      ]
     },
     "execution_count": 13,
     "metadata": {},
     "output_type": "execute_result"
    }
   ],
   "source": [
    "completion"
   ]
  },
  {
   "cell_type": "code",
   "execution_count": 20,
   "metadata": {},
   "outputs": [
    {
     "name": "stdout",
     "output_type": "stream",
     "text": [
      "1.5, 0.75-1.5\n",
      "https://www.ncbi.nlm.nih.gov/pmc/articles/PMC2848261/\n",
      " \n",
      "false\n"
     ]
    }
   ],
   "source": [
    "print(completion.choices[0].message.content)"
   ]
  },
  {
   "cell_type": "code",
   "execution_count": null,
   "metadata": {},
   "outputs": [],
   "source": []
  }
 ],
 "metadata": {
  "kernelspec": {
   "display_name": "Python 3 (ipykernel)",
   "language": "python",
   "name": "python3"
  },
  "language_info": {
   "codemirror_mode": {
    "name": "ipython",
    "version": 3
   },
   "file_extension": ".py",
   "mimetype": "text/x-python",
   "name": "python",
   "nbconvert_exporter": "python",
   "pygments_lexer": "ipython3",
   "version": "3.12.2"
  }
 },
 "nbformat": 4,
 "nbformat_minor": 4
}
