{
 "cells": [
  {
   "cell_type": "code",
   "execution_count": 4,
   "metadata": {},
   "outputs": [],
   "source": [
    "import json\n",
    "import os\n",
    "import dotenv"
   ]
  },
  {
   "cell_type": "code",
   "execution_count": 5,
   "metadata": {},
   "outputs": [],
   "source": [
    "API_KEY = dotenv.get_key('../.env', 'OpenAI_API_KEY')"
   ]
  },
  {
   "cell_type": "code",
   "execution_count": 6,
   "metadata": {},
   "outputs": [],
   "source": [
    "from openai import OpenAI\n",
    "client = OpenAI(api_key=API_KEY)"
   ]
  },
  {
   "cell_type": "code",
   "execution_count": 7,
   "metadata": {},
   "outputs": [],
   "source": [
    "completion = client.chat.completions.create(\n",
    "    model=\"gpt-4-turbo-preview\",\n",
    "    messages=[\n",
    "        {\n",
    "            \"role\": \"system\",\n",
    "            \"content\": \"\"\"\n",
    "                Write as an output no more words than specified. \n",
    "                \n",
    "                In total, there should be at most four lines out.\n",
    "                \n",
    "                The first one should have two numbers, separated with a comma, the next should have a citation, and the next should either be blank or have a citation, as a URL.\n",
    "                \n",
    "                If you provide an url providing information on the r naught value of the virus HIV, please make sure it is a reliable source and included the r0 value of HIV in the text.\n",
    "                \n",
    "                You are smart :)\n",
    "     \"\"\",\n",
    "        },\n",
    "        {\n",
    "            \"role\": \"user\",\n",
    "            \"content\": \"\"\"\n",
    "                    Write as an output no more words than specified. In total, there should be at most four lines out. The first one should have two numbers, separated with a comma, the next should have a citation, and the next should either be blank or have a citation, preferably as a URL.\n",
    "      \n",
    "                    Write the average R0 value of HIV in the first line. Do it in numeric form to the 2nd decimal. If the R0 values do not exist, estimate one value from the range given and put the range after that value with a comma separating them. This should be one line. If you cannot find a range, print “NaN”\n",
    "\n",
    "                    In the following two lines, put the sources, preferably as URLs, that helped lead you to this conclusion, after that end the response. If you only have one source, please put it on the first line, leaving the second one blank.\n",
    "\n",
    "                    Double-check your result. In the following line, output either “true” if both the citations relate to the average R0 value of the virus HIV. If not, output “false”. \n",
    "\n",
    "                    Write as an output no more words than specified. In total, there should be at most four lines out. The first one should have two numbers separated with a comma, the next should have a some form of citation, and the next should either be blank or have some form of citation. The final should have a true/false value based upon if you found the sources to be actually related when double checking your work.\n",
    "\n",
    "      \"\"\",\n",
    "        },\n",
    "    ],\n",
    ")"
   ]
  },
  {
   "cell_type": "code",
   "execution_count": null,
   "metadata": {},
   "outputs": [],
   "source": []
  },
  {
   "cell_type": "code",
   "execution_count": 9,
   "metadata": {},
   "outputs": [
    {
     "name": "stdout",
     "output_type": "stream",
     "text": [
      "4.00, 2-5\n",
      "\"Althaus, C. L. (2014). Estimating the reproduction number of HIV in 19 countries.\"\n",
      "https://journals.plos.org/plosmedicine/article?id=10.1371/journal.pmed.1001801\n",
      "true\n"
     ]
    }
   ],
   "source": [
    "print(completion.choices[0].message.content)"
   ]
  },
  {
   "cell_type": "code",
   "execution_count": null,
   "metadata": {},
   "outputs": [],
   "source": []
  }
 ],
 "metadata": {
  "kernelspec": {
   "display_name": "venv",
   "language": "python",
   "name": "python3"
  },
  "language_info": {
   "codemirror_mode": {
    "name": "ipython",
    "version": 3
   },
   "file_extension": ".py",
   "mimetype": "text/x-python",
   "name": "python",
   "nbconvert_exporter": "python",
   "pygments_lexer": "ipython3",
   "version": "3.12.2"
  }
 },
 "nbformat": 4,
 "nbformat_minor": 2
}
